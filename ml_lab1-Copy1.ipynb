{
 "cells": [
  {
   "cell_type": "code",
   "execution_count": 33,
   "id": "ff68eb54-3cba-4ffc-8687-33e713daf6ab",
   "metadata": {},
   "outputs": [
    {
     "name": "stdout",
     "output_type": "stream",
     "text": [
      "0    10\n",
      "1    20\n",
      "2    30\n",
      "3    40\n",
      "dtype: int64\n"
     ]
    }
   ],
   "source": [
    "import pandas as pd\n",
    "data=[10,20,30,40]\n",
    "v=pd.Series(data)\n",
    "print(v)"
   ]
  },
  {
   "cell_type": "code",
   "execution_count": 34,
   "id": "0d115896-e778-4e8c-8f14-ce440e26e6d0",
   "metadata": {},
   "outputs": [
    {
     "name": "stdout",
     "output_type": "stream",
     "text": [
      "      Name  Age         City\n",
      "0    Alice   25     New York\n",
      "1      Bob   30  los Angeles\n",
      "2  Charlie   35      Chicago\n"
     ]
    }
   ],
   "source": [
    "data={\n",
    "    'Name':['Alice','Bob','Charlie'],\n",
    "    'Age':[25,30,35],\n",
    "    'City':['New York','los Angeles','Chicago']\n",
    "}\n",
    "df=pd.DataFrame(data)\n",
    "print(df)"
   ]
  },
  {
   "cell_type": "code",
   "execution_count": 35,
   "id": "231a287e-bb6c-472e-b1f7-be9cf4951ef4",
   "metadata": {},
   "outputs": [
    {
     "name": "stdout",
     "output_type": "stream",
     "text": [
      "   TransactionID TransactionDate  UserID  ProductID  Quantity\n",
      "0              1      2010-08-21     7.0          2         1\n",
      "1              2      2011-05-26     3.0          4         1\n",
      "2              3      2011-06-16     3.0          3         1\n",
      "3              4      2012-08-26     1.0          2         3\n",
      "4              5      2013-06-06     2.0          4         1\n",
      "5              6      2013-12-23     2.0          5         6\n",
      "6              7      2013-12-30     3.0          4         1\n",
      "7              8      2014-04-24     NaN          2         3\n",
      "8              9      2015-04-24     7.0          4         3\n",
      "9             10      2016-05-08     3.0          4         4\n"
     ]
    }
   ],
   "source": [
    "df=pd.read_csv(\"transactions.csv\")\n",
    "print(df)"
   ]
  },
  {
   "cell_type": "code",
   "execution_count": 36,
   "id": "155ff087-114d-46dc-994a-1c61cb40a30b",
   "metadata": {},
   "outputs": [
    {
     "name": "stdout",
     "output_type": "stream",
     "text": [
      "   TransactionID TransactionDate  UserID  ProductID  Quantity\n",
      "0              1      2010-08-21     7.0          2         1\n",
      "1              2      2011-05-26     3.0          4         1\n",
      "2              3      2011-06-16     3.0          3         1\n",
      "3              4      2012-08-26     1.0          2         3\n",
      "4              5      2013-06-06     2.0          4         1\n",
      "5              6      2013-12-23     2.0          5         6\n",
      "6              7      2013-12-30     3.0          4         1\n",
      "7              8      2014-04-24     NaN          2         3\n",
      "8              9      2015-04-24     7.0          4         3\n",
      "9             10      2016-05-08     3.0          4         4\n"
     ]
    }
   ],
   "source": [
    "print(df.head(10))"
   ]
  },
  {
   "cell_type": "code",
   "execution_count": 37,
   "id": "615ebaf1-bb9f-4ac6-9b27-55f73632b75d",
   "metadata": {},
   "outputs": [
    {
     "name": "stdout",
     "output_type": "stream",
     "text": [
      "   TransactionID TransactionDate  UserID  ProductID  Quantity\n",
      "5              6      2013-12-23     2.0          5         6\n",
      "6              7      2013-12-30     3.0          4         1\n",
      "7              8      2014-04-24     NaN          2         3\n",
      "8              9      2015-04-24     7.0          4         3\n",
      "9             10      2016-05-08     3.0          4         4\n"
     ]
    }
   ],
   "source": [
    "print(df.tail())"
   ]
  },
  {
   "cell_type": "code",
   "execution_count": 38,
   "id": "d33574c7-202a-4eed-be88-002a8904501e",
   "metadata": {},
   "outputs": [
    {
     "name": "stdout",
     "output_type": "stream",
     "text": [
      "<class 'pandas.core.frame.DataFrame'>\n",
      "RangeIndex: 10 entries, 0 to 9\n",
      "Data columns (total 5 columns):\n",
      " #   Column           Non-Null Count  Dtype  \n",
      "---  ------           --------------  -----  \n",
      " 0   TransactionID    10 non-null     int64  \n",
      " 1   TransactionDate  10 non-null     object \n",
      " 2   UserID           9 non-null      float64\n",
      " 3   ProductID        10 non-null     int64  \n",
      " 4   Quantity         10 non-null     int64  \n",
      "dtypes: float64(1), int64(3), object(1)\n",
      "memory usage: 532.0+ bytes\n",
      "None\n"
     ]
    }
   ],
   "source": [
    "print(df.info())"
   ]
  },
  {
   "cell_type": "code",
   "execution_count": 71,
   "id": "c7d01ca3-b895-48e3-93c9-0498a1606068",
   "metadata": {},
   "outputs": [
    {
     "name": "stdout",
     "output_type": "stream",
     "text": [
      "       TransactionID    UserID  ProductID   Quantity\n",
      "count       10.00000  9.000000  10.000000  10.000000\n",
      "mean         5.50000  3.444444   3.400000   2.400000\n",
      "std          3.02765  2.127858   1.074968   1.712698\n",
      "min          1.00000  1.000000   2.000000   1.000000\n",
      "25%          3.25000  2.000000   2.250000   1.000000\n",
      "50%          5.50000  3.000000   4.000000   2.000000\n",
      "75%          7.75000  3.000000   4.000000   3.000000\n",
      "max         10.00000  7.000000   5.000000   6.000000\n"
     ]
    }
   ],
   "source": [
    "print(df.describe())"
   ]
  },
  {
   "cell_type": "raw",
   "id": "e53e63a1-44df-4f39-8cec-c2e2b0106048",
   "metadata": {},
   "source": [
    "print(df[['Name','City']])"
   ]
  },
  {
   "cell_type": "code",
   "execution_count": 74,
   "id": "88d033a9-726c-4f58-a11f-546f62272bbe",
   "metadata": {},
   "outputs": [
    {
     "name": "stdout",
     "output_type": "stream",
     "text": [
      "TransactionID               2\n",
      "TransactionDate    2011-05-26\n",
      "UserID                    3.0\n",
      "ProductID                   4\n",
      "Quantity                    1\n",
      "Name: 1, dtype: object\n"
     ]
    }
   ],
   "source": [
    "print(df.iloc[1])"
   ]
  },
  {
   "cell_type": "code",
   "execution_count": 78,
   "id": "87dde0ea-2f10-4603-9635-30dd94dc1888",
   "metadata": {},
   "outputs": [
    {
     "data": {
      "text/plain": [
       "0     1\n",
       "1     2\n",
       "2     3\n",
       "3     4\n",
       "4     5\n",
       "5     6\n",
       "6     7\n",
       "7     8\n",
       "8     9\n",
       "9    10\n",
       "Name: TransactionID, dtype: int64"
      ]
     },
     "execution_count": 78,
     "metadata": {},
     "output_type": "execute_result"
    }
   ],
   "source": [
    "df['TransactionID']"
   ]
  },
  {
   "cell_type": "code",
   "execution_count": 82,
   "id": "724cd746-c906-4a97-8aa4-990b07b1368e",
   "metadata": {},
   "outputs": [
    {
     "data": {
      "text/html": [
       "<div>\n",
       "<style scoped>\n",
       "    .dataframe tbody tr th:only-of-type {\n",
       "        vertical-align: middle;\n",
       "    }\n",
       "\n",
       "    .dataframe tbody tr th {\n",
       "        vertical-align: top;\n",
       "    }\n",
       "\n",
       "    .dataframe thead th {\n",
       "        text-align: right;\n",
       "    }\n",
       "</style>\n",
       "<table border=\"1\" class=\"dataframe\">\n",
       "  <thead>\n",
       "    <tr style=\"text-align: right;\">\n",
       "      <th></th>\n",
       "      <th>TransactionID</th>\n",
       "      <th>Quantity</th>\n",
       "    </tr>\n",
       "  </thead>\n",
       "  <tbody>\n",
       "    <tr>\n",
       "      <th>0</th>\n",
       "      <td>1</td>\n",
       "      <td>1</td>\n",
       "    </tr>\n",
       "    <tr>\n",
       "      <th>1</th>\n",
       "      <td>2</td>\n",
       "      <td>1</td>\n",
       "    </tr>\n",
       "    <tr>\n",
       "      <th>2</th>\n",
       "      <td>3</td>\n",
       "      <td>1</td>\n",
       "    </tr>\n",
       "    <tr>\n",
       "      <th>3</th>\n",
       "      <td>4</td>\n",
       "      <td>3</td>\n",
       "    </tr>\n",
       "    <tr>\n",
       "      <th>4</th>\n",
       "      <td>5</td>\n",
       "      <td>1</td>\n",
       "    </tr>\n",
       "    <tr>\n",
       "      <th>5</th>\n",
       "      <td>6</td>\n",
       "      <td>6</td>\n",
       "    </tr>\n",
       "    <tr>\n",
       "      <th>6</th>\n",
       "      <td>7</td>\n",
       "      <td>1</td>\n",
       "    </tr>\n",
       "    <tr>\n",
       "      <th>7</th>\n",
       "      <td>8</td>\n",
       "      <td>3</td>\n",
       "    </tr>\n",
       "    <tr>\n",
       "      <th>8</th>\n",
       "      <td>9</td>\n",
       "      <td>3</td>\n",
       "    </tr>\n",
       "    <tr>\n",
       "      <th>9</th>\n",
       "      <td>10</td>\n",
       "      <td>4</td>\n",
       "    </tr>\n",
       "  </tbody>\n",
       "</table>\n",
       "</div>"
      ],
      "text/plain": [
       "   TransactionID  Quantity\n",
       "0              1         1\n",
       "1              2         1\n",
       "2              3         1\n",
       "3              4         3\n",
       "4              5         1\n",
       "5              6         6\n",
       "6              7         1\n",
       "7              8         3\n",
       "8              9         3\n",
       "9             10         4"
      ]
     },
     "execution_count": 82,
     "metadata": {},
     "output_type": "execute_result"
    }
   ],
   "source": [
    "df[['TransactionID', 'Quantity']]"
   ]
  },
  {
   "cell_type": "code",
   "execution_count": 86,
   "id": "b838359e-0e1d-402c-bbb5-09bb744827f9",
   "metadata": {},
   "outputs": [
    {
     "data": {
      "text/plain": [
       "TransactionID               2\n",
       "TransactionDate    2011-05-26\n",
       "UserID                    3.0\n",
       "ProductID                   4\n",
       "Quantity                    1\n",
       "Name: 1, dtype: object"
      ]
     },
     "execution_count": 86,
     "metadata": {},
     "output_type": "execute_result"
    }
   ],
   "source": [
    "df.iloc[1]"
   ]
  },
  {
   "cell_type": "code",
   "execution_count": 91,
   "id": "c6b967b1-f40b-4ffa-be07-c00bc2c480b4",
   "metadata": {},
   "outputs": [
    {
     "name": "stdout",
     "output_type": "stream",
     "text": [
      "   TransactionID TransactionDate  UserID  ProductID  Quantity\n",
      "3              4      2012-08-26     1.0          2         3\n",
      "4              5      2013-06-06     2.0          4         1\n",
      "5              6      2013-12-23     2.0          5         6\n",
      "6              7      2013-12-30     3.0          4         1\n",
      "7              8      2014-04-24     NaN          2         3\n",
      "8              9      2015-04-24     7.0          4         3\n",
      "9             10      2016-05-08     3.0          4         4\n"
     ]
    }
   ],
   "source": [
    "filtered_df=df[df['TransactionID']>3]\n",
    "print(filtered_df)"
   ]
  },
  {
   "cell_type": "code",
   "execution_count": 103,
   "id": "f12a0b9b-0a30-477f-86d1-d60e21401e92",
   "metadata": {},
   "outputs": [
    {
     "name": "stdout",
     "output_type": "stream",
     "text": [
      "   TransactionID        Date  UID  ProductID  Quantity\n",
      "0              1  2010-08-21  7.0          2         1\n",
      "1              2  2011-05-26  3.0          4         1\n",
      "2              3  2011-06-16  3.0          3         1\n",
      "3              4  2012-08-26  1.0          2         3\n",
      "4              5  2013-06-06  2.0          4         1\n",
      "5              6  2013-12-23  2.0          5         6\n",
      "6              7  2013-12-30  3.0          4         1\n",
      "7              8  2014-04-24  NaN          2         3\n",
      "8              9  2015-04-24  7.0          4         3\n",
      "9             10  2016-05-08  3.0          4         4\n"
     ]
    }
   ],
   "source": [
    "df.rename(columns={'UserID':'UID'},inplace=True)\n",
    "print(df)"
   ]
  },
  {
   "cell_type": "code",
   "execution_count": 105,
   "id": "a024c2d6-64ec-441e-a82d-07d7d7052e32",
   "metadata": {},
   "outputs": [
    {
     "name": "stdout",
     "output_type": "stream",
     "text": [
      "   TransactionID TransactionDate  UserID  ProductID  Quant\n",
      "0              1      2010-08-21     7.0          2      1\n",
      "1              2      2011-05-26     3.0          4      1\n",
      "2              3      2011-06-16     3.0          3      1\n",
      "3              4      2012-08-26     1.0          2      3\n",
      "4              5      2013-06-06     2.0          4      1\n"
     ]
    }
   ],
   "source": [
    "import pandas as pd\n",
    "df=pd.read_csv(\"transactions.csv\")\n",
    "df.rename(columns={'Quantity':'Quant'},inplace=True)\n",
    "print(df.head())"
   ]
  },
  {
   "cell_type": "code",
   "execution_count": 111,
   "id": "9125bbd9-d4c3-4c7c-b466-11011e37cb14",
   "metadata": {},
   "outputs": [
    {
     "name": "stdout",
     "output_type": "stream",
     "text": [
      "TransactionID      0\n",
      "TransactionDate    0\n",
      "UserID             1\n",
      "ProductID          0\n",
      "Quant              0\n",
      "dtype: int64\n"
     ]
    }
   ],
   "source": [
    "print(df.isnull().sum())"
   ]
  },
  {
   "cell_type": "code",
   "execution_count": 121,
   "id": "12dd6885-118a-4f1d-98c0-cadc89e1420e",
   "metadata": {},
   "outputs": [
    {
     "name": "stdout",
     "output_type": "stream",
     "text": [
      "   TransactionID TransactionDate    UserID  ProductID  Quant\n",
      "0              1      2010-08-21  7.000000          2      1\n",
      "1              2      2011-05-26  3.000000          4      1\n",
      "2              3      2011-06-16  3.000000          3      1\n",
      "3              4      2012-08-26  1.000000          2      3\n",
      "4              5      2013-06-06  2.000000          4      1\n",
      "5              6      2013-12-23  2.000000          5      6\n",
      "6              7      2013-12-30  3.000000          4      1\n",
      "7              8      2014-04-24  3.444444          2      3\n",
      "8              9      2015-04-24  7.000000          4      3\n",
      "9             10      2016-05-08  3.000000          4      4\n"
     ]
    },
    {
     "name": "stderr",
     "output_type": "stream",
     "text": [
      "/tmp/ipykernel_6781/1174315164.py:1: FutureWarning: A value is trying to be set on a copy of a DataFrame or Series through chained assignment using an inplace method.\n",
      "The behavior will change in pandas 3.0. This inplace method will never work because the intermediate object on which we are setting values always behaves as a copy.\n",
      "\n",
      "For example, when doing 'df[col].method(value, inplace=True)', try using 'df.method({col: value}, inplace=True)' or df[col] = df[col].method(value) instead, to perform the operation inplace on the original object.\n",
      "\n",
      "\n",
      "  df['UserID'].fillna(df['UserID'].mean(),inplace=True)\n"
     ]
    }
   ],
   "source": [
    "df['UserID'].fillna(df['UserID'].mean(),inplace=True)\n",
    "print(df)"
   ]
  },
  {
   "cell_type": "code",
   "execution_count": 125,
   "id": "20ceca55-12b7-4843-b929-48aad6f20c7e",
   "metadata": {},
   "outputs": [
    {
     "name": "stdout",
     "output_type": "stream",
     "text": [
      "   TransactionID TransactionDate    UserID  ProductID  Quant\n",
      "0              1      2010-08-21  7.000000          2      1\n",
      "1              2      2011-05-26  3.000000          4      1\n",
      "2              3      2011-06-16  3.000000          3      1\n",
      "3              4      2012-08-26  1.000000          2      3\n",
      "4              5      2013-06-06  2.000000          4      1\n",
      "5              6      2013-12-23  2.000000          5      6\n",
      "6              7      2013-12-30  3.000000          4      1\n",
      "7              8      2014-04-24  3.444444          2      3\n",
      "8              9      2015-04-24  7.000000          4      3\n",
      "9             10      2016-05-08  3.000000          4      4\n"
     ]
    }
   ],
   "source": [
    "df.dropna(inplace=True)\n",
    "print(df)"
   ]
  },
  {
   "cell_type": "code",
   "execution_count": 133,
   "id": "fe4d9856-6d04-40d9-a004-ce5dbf44bd5d",
   "metadata": {},
   "outputs": [
    {
     "name": "stdout",
     "output_type": "stream",
     "text": [
      "   TransactionID TransactionDate  UserID  ProductID  Quantity\n",
      "6              7      2013-12-30     3.0          4         1\n",
      "4              5      2013-06-06     2.0          4         1\n",
      "2              3      2011-06-16     3.0          3         1\n",
      "1              2      2011-05-26     3.0          4         1\n",
      "0              1      2010-08-21     7.0          2         1\n",
      "8              9      2015-04-24     7.0          4         3\n",
      "7              8      2014-04-24     NaN          2         3\n",
      "3              4      2012-08-26     1.0          2         3\n",
      "9             10      2016-05-08     3.0          4         4\n"
     ]
    }
   ],
   "source": [
    "import pandas as pd\n",
    "df=pd.read_csv(\"transactions.csv\")\n",
    "df_sorted=df.sort_values(by=[\"Quantity\",\"TransactionDate\"],\n",
    "ascending=[True,False])\n",
    "print(df_sorted.head(9))"
   ]
  },
  {
   "cell_type": "code",
   "execution_count": 131,
   "id": "6b134f02-98a2-49f5-8d17-a70f48dcb7fe",
   "metadata": {},
   "outputs": [
    {
     "name": "stdout",
     "output_type": "stream",
     "text": [
      "   TransactionID TransactionDate  UserID  ProductID  Quantity\n",
      "3              4      2012-08-26     1.0          2         3\n",
      "5              6      2013-12-23     2.0          5         6\n",
      "7              8      2014-04-24     NaN          2         3\n",
      "8              9      2015-04-24     7.0          4         3\n",
      "9             10      2016-05-08     3.0          4         4\n"
     ]
    }
   ],
   "source": [
    "subset=df[df['Quantity']>1]\n",
    "print(subset)"
   ]
  },
  {
   "cell_type": "code",
   "execution_count": 141,
   "id": "3664d3a7-40f7-4cf0-a15f-d106592366fe",
   "metadata": {},
   "outputs": [
    {
     "name": "stdout",
     "output_type": "stream",
     "text": [
      "   TransactionID TransactionDate  UserID  ProductID  Quantity\n",
      "0              1      2010-08-21     7.0          2         1\n",
      "2              3      2011-06-16     3.0          3         1\n",
      "4              5      2013-06-06     2.0          4         1\n",
      "6              7      2013-12-30     3.0          4         1\n",
      "8              9      2015-04-24     7.0          4         3\n"
     ]
    }
   ],
   "source": [
    "foo=[True,False,True,False,True,False,True,False,True,False]\n",
    "subset_rows=df[foo]\n",
    "print(subset_rows)"
   ]
  },
  {
   "cell_type": "code",
   "execution_count": 145,
   "id": "f8dfd069-94f1-4e8d-8f0a-2e3d1f21fa26",
   "metadata": {},
   "outputs": [
    {
     "name": "stdout",
     "output_type": "stream",
     "text": [
      "   TransactionID TransactionDate\n",
      "3              4      2012-08-26\n",
      "5              6      2013-12-23\n",
      "7              8      2014-04-24\n",
      "8              9      2015-04-24\n",
      "9             10      2016-05-08\n"
     ]
    }
   ],
   "source": [
    "subset=df[df['Quantity']>1][['TransactionID','TransactionDate']]\n",
    "print(subset)"
   ]
  },
  {
   "cell_type": "code",
   "execution_count": 147,
   "id": "46e0b6be-c849-44f9-8e38-dfb368769cfb",
   "metadata": {},
   "outputs": [
    {
     "name": "stdout",
     "output_type": "stream",
     "text": [
      "   TransactionID TransactionDate  UserID  ProductID\n",
      "0              1      2010-08-21     7.0          2\n",
      "1              2      2011-05-26     3.0          4\n",
      "2              3      2011-06-16     3.0          3\n",
      "3              4      2012-08-26     1.0          2\n",
      "4              5      2013-06-06     2.0          4\n",
      "5              6      2013-12-23     2.0          5\n",
      "6              7      2013-12-30     3.0          4\n",
      "7              8      2014-04-24     NaN          2\n",
      "8              9      2015-04-24     7.0          4\n",
      "9             10      2016-05-08     3.0          4\n"
     ]
    }
   ],
   "source": [
    "columns_to_exclude=['Quantity','ProductId']\n",
    "subset_columns_excluded=df[[col for col in df.columns if col not in columns_to_exclude]]\n",
    "print(subset_columns_excluded)"
   ]
  },
  {
   "cell_type": "code",
   "execution_count": 169,
   "id": "59d18788-d545-42ac-8985-e9708703599f",
   "metadata": {},
   "outputs": [
    {
     "name": "stdout",
     "output_type": "stream",
     "text": [
      "TransactionID               int64\n",
      "TransactionDate    datetime64[ns]\n",
      "UserID                    float64\n",
      "ProductID                   int64\n",
      "Quantity                    int64\n",
      "dtype: object\n"
     ]
    }
   ],
   "source": [
    "df['TransactionDate']=pd.to_datetime(df['TransactionDate'])\n",
    "print(df.dtypes)"
   ]
  },
  {
   "cell_type": "code",
   "execution_count": 171,
   "id": "c4bf58be-fb84-4946-84f6-dc6ef1c8efa0",
   "metadata": {},
   "outputs": [
    {
     "name": "stdout",
     "output_type": "stream",
     "text": [
      "   TransactionID TransactionDate  UserID  ProductID  Quantity  Foo\n",
      "0              1      2010-08-21     7.0          2         1  9.0\n",
      "1              2      2011-05-26     3.0          4         1  7.0\n",
      "2              3      2011-06-16     3.0          3         1  6.0\n",
      "3              4      2012-08-26     1.0          2         3  3.0\n",
      "4              5      2013-06-06     2.0          4         1  6.0\n"
     ]
    }
   ],
   "source": [
    "df['Foo']=df['UserID']+df['ProductID']\n",
    "print(df.head())"
   ]
  },
  {
   "cell_type": "code",
   "execution_count": 189,
   "id": "768ac827-81c5-4ba9-a291-f95be516301f",
   "metadata": {},
   "outputs": [],
   "source": [
    "df.loc[len(df)]=[10,'2013-06-06',10,8,4,9.0]\n"
   ]
  },
  {
   "cell_type": "code",
   "execution_count": 191,
   "id": "aae5f874-b992-4fd1-805c-623008d6cba0",
   "metadata": {},
   "outputs": [
    {
     "name": "stdout",
     "output_type": "stream",
     "text": [
      "    TransactionID      TransactionDate  UserID  ProductID  Quantity   Foo\n",
      "0               1  2010-08-21 00:00:00     7.0          2         1   9.0\n",
      "1               2  2011-05-26 00:00:00     3.0          4         1   7.0\n",
      "2               3  2011-06-16 00:00:00     3.0          3         1   6.0\n",
      "3               4  2012-08-26 00:00:00     1.0          2         3   3.0\n",
      "4               5  2013-06-06 00:00:00     2.0          4         1   6.0\n",
      "5               6  2013-12-23 00:00:00     2.0          5         6   7.0\n",
      "6               7  2013-12-30 00:00:00     3.0          4         1   7.0\n",
      "7               8  2014-04-24 00:00:00     NaN          2         3   NaN\n",
      "8               9  2015-04-24 00:00:00     7.0          4         3  11.0\n",
      "9              10  2016-05-08 00:00:00     3.0          4         4   7.0\n",
      "10  TransactionID      TransactionDate  UserID  ProductID  Quantity   Foo\n",
      "11             10           2013-06-06      10          8         4   9.0\n"
     ]
    }
   ],
   "source": [
    "print(df)"
   ]
  },
  {
   "cell_type": "code",
   "execution_count": 195,
   "id": "95c1abc2-4bdc-47c5-adc3-11a26b184877",
   "metadata": {},
   "outputs": [
    {
     "name": "stdout",
     "output_type": "stream",
     "text": [
      "    TransactionID      TransactionDate  UserID  ProductID  Quantity  \\\n",
      "0               1  2010-08-21 00:00:00     7.0          2         1   \n",
      "1               2  2011-05-26 00:00:00     3.0          4         1   \n",
      "2               3  2011-06-16 00:00:00     3.0          3         1   \n",
      "3               4  2012-08-26 00:00:00     1.0          2         3   \n",
      "4               5  2013-06-06 00:00:00     2.0          4         1   \n",
      "5               6  2013-12-23 00:00:00     2.0          5         6   \n",
      "6               7  2013-12-30 00:00:00     3.0          4         1   \n",
      "7               8  2014-04-24 00:00:00     NaN          2         3   \n",
      "8               9  2015-04-24 00:00:00     7.0          4         3   \n",
      "9              10  2016-05-08 00:00:00     3.0          4         4   \n",
      "10  TransactionID      TransactionDate  UserID  ProductID  Quantity   \n",
      "11             10           2013-06-06      10          8         4   \n",
      "\n",
      "                Foo  \n",
      "0               9.0  \n",
      "1               7.0  \n",
      "2               6.0  \n",
      "3               3.0  \n",
      "4               6.0  \n",
      "5               7.0  \n",
      "6               7.0  \n",
      "7               NaN  \n",
      "8              11.0  \n",
      "9               7.0  \n",
      "10  UserIDProductID  \n",
      "11               18  \n"
     ]
    }
   ],
   "source": [
    "df['Foo']=df['UserID']+df['ProductID']\n",
    "print(df)"
   ]
  },
  {
   "cell_type": "code",
   "execution_count": 197,
   "id": "a82397e6-74cb-49bd-aeb1-bf05a728567e",
   "metadata": {},
   "outputs": [
    {
     "name": "stdout",
     "output_type": "stream",
     "text": [
      "  TransactionID      TransactionDate UserID ProductID Quantity  Foo NewColumn\n",
      "0             1  2010-08-21 00:00:00    7.0         2        1  9.0         2\n",
      "1             2  2011-05-26 00:00:00    3.0         4        1  7.0         2\n",
      "2             3  2011-06-16 00:00:00    3.0         3        1  6.0         2\n",
      "3             4  2012-08-26 00:00:00    1.0         2        3  3.0         6\n",
      "4             5  2013-06-06 00:00:00    2.0         4        1  6.0         2\n"
     ]
    }
   ],
   "source": [
    "df['NewColumn'] = df['Quantity'] * 2\n",
    "print(df.head())"
   ]
  },
  {
   "cell_type": "markdown",
   "id": "bb1c4eaf-d388-4cce-980f-05fa9d68c5e7",
   "metadata": {},
   "source": [
    "EXCERSICE"
   ]
  },
  {
   "cell_type": "code",
   "execution_count": 233,
   "id": "6b593516-6063-4f0b-a07e-5f783985e7a6",
   "metadata": {},
   "outputs": [
    {
     "name": "stdout",
     "output_type": "stream",
     "text": [
      "Summary of the transaction dataset:\n",
      "<class 'pandas.core.frame.DataFrame'>\n",
      "RangeIndex: 10 entries, 0 to 9\n",
      "Data columns (total 5 columns):\n",
      " #   Column           Non-Null Count  Dtype  \n",
      "---  ------           --------------  -----  \n",
      " 0   TransactionID    10 non-null     int64  \n",
      " 1   TransactionDate  10 non-null     object \n",
      " 2   UserID           9 non-null      float64\n",
      " 3   ProductID        10 non-null     int64  \n",
      " 4   Quantity         10 non-null     int64  \n",
      "dtypes: float64(1), int64(3), object(1)\n",
      "memory usage: 532.0+ bytes\n",
      "None\n",
      "\n",
      "\n",
      "       TransactionID    UserID  ProductID   Quantity\n",
      "count       10.00000  9.000000  10.000000  10.000000\n",
      "mean         5.50000  3.444444   3.400000   2.400000\n",
      "std          3.02765  2.127858   1.074968   1.712698\n",
      "min          1.00000  1.000000   2.000000   1.000000\n",
      "25%          3.25000  2.000000   2.250000   1.000000\n",
      "50%          5.50000  3.000000   4.000000   2.000000\n",
      "75%          7.75000  3.000000   4.000000   3.000000\n",
      "max         10.00000  7.000000   5.000000   6.000000\n"
     ]
    }
   ],
   "source": [
    "#1. Print Summary of transaction data set\n",
    "import pandas as pd\n",
    "df=pd.read_csv(\"transactions.csv\")\n",
    "print(\"Summary of the transaction dataset:\")\n",
    "print(df.info())\n",
    "print(\"\\n\")\n",
    "print(df.describe())\n"
   ]
  },
  {
   "cell_type": "code",
   "execution_count": 308,
   "id": "7b259664-eaca-4ddc-97c0-f2219c91bdba",
   "metadata": {},
   "outputs": [
    {
     "name": "stdout",
     "output_type": "stream",
     "text": [
      "Number of attributes (columns): 5\n"
     ]
    }
   ],
   "source": [
    "#2. Print Numbers of Attributes\n",
    "num_attributes = df.shape[1]\n",
    "print(f\"Number of attributes (columns): {num_attributes}\")"
   ]
  },
  {
   "cell_type": "code",
   "execution_count": 239,
   "id": "2478fae4-2682-407c-a6fb-1a93f485dab7",
   "metadata": {},
   "outputs": [
    {
     "name": "stdout",
     "output_type": "stream",
     "text": [
      "Number of records (rows): 10\n"
     ]
    }
   ],
   "source": [
    "#3. Print Numbers of Records\n",
    "num_records = df.shape[0]\n",
    "print(f\"Number of records (rows): {num_records}\")"
   ]
  },
  {
   "cell_type": "code",
   "execution_count": 241,
   "id": "6ccbb21d-ee5e-46c3-935b-983916558ce2",
   "metadata": {},
   "outputs": [
    {
     "name": "stdout",
     "output_type": "stream",
     "text": [
      "Row names (indices): [0, 1, 2, 3, 4, 5, 6, 7, 8, 9]\n"
     ]
    }
   ],
   "source": [
    "#4. Get the row names\n",
    "row_names = df.index.tolist()\n",
    "print(\"Row names (indices):\", row_names)"
   ]
  },
  {
   "cell_type": "code",
   "execution_count": 245,
   "id": "8647684f-e70e-4fef-abba-a03406f56ee7",
   "metadata": {},
   "outputs": [
    {
     "name": "stdout",
     "output_type": "stream",
     "text": [
      "Column names: ['TransactionID', 'TransactionDate', 'UserID', 'ProductID', 'Quantity']\n"
     ]
    }
   ],
   "source": [
    "#5. Get the column names\n",
    "column_names = df.columns.tolist()\n",
    "print(\"Column names:\", column_names)"
   ]
  },
  {
   "cell_type": "code",
   "execution_count": 249,
   "id": "1886006b-26fa-427c-917d-304877fc27b4",
   "metadata": {},
   "outputs": [
    {
     "name": "stdout",
     "output_type": "stream",
     "text": [
      "Top 10 records:\n",
      "   TransactionID TransactionDate  UserID  ProductID  Quantity\n",
      "0              1      2010-08-21     7.0          2         1\n",
      "1              2      2011-05-26     3.0          4         1\n",
      "2              3      2011-06-16     3.0          3         1\n",
      "3              4      2012-08-26     1.0          2         3\n",
      "4              5      2013-06-06     2.0          4         1\n",
      "5              6      2013-12-23     2.0          5         6\n",
      "6              7      2013-12-30     3.0          4         1\n",
      "7              8      2014-04-24     NaN          2         3\n",
      "8              9      2015-04-24     7.0          4         3\n",
      "9             10      2016-05-08     3.0          4         4\n"
     ]
    }
   ],
   "source": [
    "#6. View top 10 Records\n",
    "top_10_records = df.head(10)\n",
    "print(\"Top 10 records:\")\n",
    "print(top_10_records)"
   ]
  },
  {
   "cell_type": "code",
   "execution_count": 255,
   "id": "07c61f64-09d4-46f2-a3f1-f8eb6cb70936",
   "metadata": {},
   "outputs": [
    {
     "name": "stdout",
     "output_type": "stream",
     "text": [
      "\n",
      "Column 'Quantity' renamed to 'Quant'.\n",
      "Updated column names: ['TransactionID', 'TransactionDate', 'UserID', 'ProductID', 'Quant']\n"
     ]
    }
   ],
   "source": [
    "#7..Change the name of column “ Quantity” to “Quant”\n",
    "df.rename(columns={\"Quantity\": \"Quant\"}, inplace=True)\n",
    "print(\"\\nColumn 'Quantity' renamed to 'Quant'.\")\n",
    "print(\"Updated column names:\", df.columns.tolist())"
   ]
  },
  {
   "cell_type": "code",
   "execution_count": 277,
   "id": "dd78a2e5-94fd-4e76-908d-611d238e1591",
   "metadata": {},
   "outputs": [
    {
     "name": "stdout",
     "output_type": "stream",
     "text": [
      "\n",
      "Columns 'ProductID' and 'UserID' renamed to 'PID' and 'UID'.\n",
      "Updated column names: ['TransactionID', 'TransactionDate', 'UID', 'PID', 'Quant']\n"
     ]
    }
   ],
   "source": [
    "#8.Change the name of columns ProductID and UserID to PID and UID respectively\n",
    "df.rename(columns={\"Product_ID\": \"PID\", \"User_ID\": \"UID\"}, inplace=True)\n",
    "print(\"\\nColumns 'ProductID' and 'UserID' renamed to 'PID' and 'UID'.\")\n",
    "print(\"Updated column names:\", df.columns.tolist())"
   ]
  },
  {
   "cell_type": "code",
   "execution_count": 288,
   "id": "35cb38fe-5d50-4746-9ee6-f1cfbe00a02d",
   "metadata": {},
   "outputs": [
    {
     "name": "stdout",
     "output_type": "stream",
     "text": [
      "Data sorted by TransactionID descending:\n",
      "   TransactionID TransactionDate  UID  PID  Quant\n",
      "9             10      2016-05-08  3.0    4      4\n",
      "8              9      2015-04-24  7.0    4      3\n",
      "7              8      2014-04-24  NaN    2      3\n",
      "6              7      2013-12-30  3.0    4      1\n",
      "5              6      2013-12-23  2.0    5      6\n",
      "4              5      2013-06-06  2.0    4      1\n",
      "3              4      2012-08-26  1.0    2      3\n",
      "2              3      2011-06-16  3.0    3      1\n",
      "1              2      2011-05-26  3.0    4      1\n",
      "0              1      2010-08-21  7.0    2      1\n"
     ]
    }
   ],
   "source": [
    "#9.Order the rows of transactions by TransactionId\n",
    "descending, if ascending then ascending=True\n",
    "df_sorted_by_tid = df.sort_values(by=\"TransactionID\", ascending=False)\n",
    "print(\"Data sorted by TransactionID descending:\")\n",
    "print(df_sorted_by_tid)"
   ]
  },
  {
   "cell_type": "code",
   "execution_count": 292,
   "id": "ef54fbc3-bcb9-4a24-8930-99d025878c60",
   "metadata": {},
   "outputs": [
    {
     "name": "stdout",
     "output_type": "stream",
     "text": [
      "Data sorted by Quantity ascending, TransactionDate descending:\n",
      "   TransactionID TransactionDate  UID  PID  Quant\n",
      "6              7      2013-12-30  3.0    4      1\n",
      "4              5      2013-06-06  2.0    4      1\n",
      "2              3      2011-06-16  3.0    3      1\n",
      "1              2      2011-05-26  3.0    4      1\n",
      "0              1      2010-08-21  7.0    2      1\n",
      "8              9      2015-04-24  7.0    4      3\n",
      "7              8      2014-04-24  NaN    2      3\n",
      "3              4      2012-08-26  1.0    2      3\n",
      "9             10      2016-05-08  3.0    4      4\n",
      "5              6      2013-12-23  2.0    5      6\n"
     ]
    }
   ],
   "source": [
    "# 10. Order the rows of transactions by Quantity ascending, TransactionDate descending\n",
    "data_sorted_complex = df.sort_values(by=[\"Quant\", \"TransactionDate\"], ascending=[True, False])\n",
    "print(\"Data sorted by Quantity ascending, TransactionDate descending:\")\n",
    "print(data_sorted_complex)"
   ]
  },
  {
   "cell_type": "code",
   "execution_count": 300,
   "id": "3455203c-3cf8-480b-b329-9982a8902d1f",
   "metadata": {},
   "outputs": [
    {
     "name": "stdout",
     "output_type": "stream",
     "text": [
      "   PID  Quant TransactionDate  TransactionID  UID\n",
      "0    2      1      2010-08-21              1  7.0\n",
      "1    4      1      2011-05-26              2  3.0\n",
      "2    3      1      2011-06-16              3  3.0\n",
      "3    2      3      2012-08-26              4  1.0\n",
      "4    4      1      2013-06-06              5  2.0\n",
      "5    5      6      2013-12-23              6  2.0\n",
      "6    4      1      2013-12-30              7  3.0\n",
      "7    2      3      2014-04-24              8  NaN\n",
      "8    4      3      2015-04-24              9  7.0\n",
      "9    4      4      2016-05-08             10  3.0\n"
     ]
    }
   ],
   "source": [
    "# 11. Set the column order of transactions\n",
    "column_order = [\"PID\", \"Quant\", \"TransactionDate\", \"TransactionID\", \"UID\"]\n",
    "data = df[column_order]\n",
    "print(data)"
   ]
  },
  {
   "cell_type": "code",
   "execution_count": 302,
   "id": "0496f053-5197-4f1e-bdb7-d712ea3fb79e",
   "metadata": {},
   "outputs": [
    {
     "name": "stdout",
     "output_type": "stream",
     "text": [
      "   UID  PID  Quant TransactionDate  TransactionID\n",
      "0  7.0    2      1      2010-08-21              1\n",
      "1  3.0    4      1      2011-05-26              2\n",
      "2  3.0    3      1      2011-06-16              3\n",
      "3  1.0    2      3      2012-08-26              4\n",
      "4  2.0    4      1      2013-06-06              5\n",
      "5  2.0    5      6      2013-12-23              6\n",
      "6  3.0    4      1      2013-12-30              7\n",
      "7  NaN    2      3      2014-04-24              8\n",
      "8  7.0    4      3      2015-04-24              9\n",
      "9  3.0    4      4      2016-05-08             10\n"
     ]
    }
   ],
   "source": [
    "# 12. Make UID the first column of transactions\n",
    "columns_reordered = [\"UID\"] + [col for col in data.columns if col != \"UID\"]\n",
    "data = df[columns_reordered]\n",
    "print(data)"
   ]
  },
  {
   "cell_type": "code",
   "execution_count": 304,
   "id": "079ee93b-8044-4342-8e4e-2862dc2d55f7",
   "metadata": {},
   "outputs": [
    {
     "name": "stdout",
     "output_type": "stream",
     "text": [
      "Second column as array: ['2010-08-21' '2011-05-26' '2011-06-16' '2012-08-26' '2013-06-06'\n",
      " '2013-12-23' '2013-12-30' '2014-04-24' '2015-04-24' '2016-05-08']\n"
     ]
    }
   ],
   "source": [
    "# 13. Extracting arrays from a DataFrame - Get the 2nd column\n",
    "second_column_array = df.iloc[:, 1].to_numpy()\n",
    "print(\"Second column as array:\", second_column_array)"
   ]
  },
  {
   "cell_type": "code",
   "execution_count": 306,
   "id": "1498a3e8-ccae-4c80-8aad-9c8a4f826964",
   "metadata": {},
   "outputs": [
    {
     "name": "stdout",
     "output_type": "stream",
     "text": [
      "PID array: [2 4 3 2 4 5 4 2 4 4]\n"
     ]
    }
   ],
   "source": [
    "# 14. Get the PID array\n",
    "pid_array = df[\"PID\"].to_numpy()\n",
    "print(\"PID array:\", pid_array)"
   ]
  },
  {
   "cell_type": "code",
   "execution_count": 356,
   "id": "d346ea43-8a6f-4740-8e85-c3f79cc6c3ee",
   "metadata": {},
   "outputs": [
    {
     "name": "stdout",
     "output_type": "stream",
     "text": [
      "ProductID array: [2 4 3 2 4 5 4 2 4 4]\n"
     ]
    }
   ],
   "source": [
    "\n",
    "# 15. Get the ProductID array using the following variable\n",
    "productid_array = df[\"PID\"].to_numpy()\n",
    "print(\"ProductID array:\", productid_array)"
   ]
  },
  {
   "cell_type": "code",
   "execution_count": 310,
   "id": "7b8ec428-1046-4099-8937-4fdf85120d04",
   "metadata": {},
   "outputs": [
    {
     "name": "stdout",
     "output_type": "stream",
     "text": [
      "Subset rows 1, 3, and 6:\n",
      "   TransactionID TransactionDate  UID  PID  Quant\n",
      "0              1      2010-08-21  7.0    2      1\n",
      "2              3      2011-06-16  3.0    3      1\n",
      "5              6      2013-12-23  2.0    5      6\n"
     ]
    }
   ],
   "source": [
    "# 16. Row subsetting - subset rows 1, 3, and 6\n",
    "subset_rows = df.iloc[[0, 2, 5]]\n",
    "print(\"Subset rows 1, 3, and 6:\")\n",
    "print(subset_rows)"
   ]
  },
  {
   "cell_type": "code",
   "execution_count": 312,
   "id": "8d3971f6-cc54-43da-a774-aa8835659182",
   "metadata": {},
   "outputs": [
    {
     "name": "stdout",
     "output_type": "stream",
     "text": [
      "Subset excluding rows 1, 3, and 6:\n",
      "   TransactionID TransactionDate  UID  PID  Quant\n",
      "1              2      2011-05-26  3.0    4      1\n",
      "3              4      2012-08-26  1.0    2      3\n",
      "4              5      2013-06-06  2.0    4      1\n",
      "6              7      2013-12-30  3.0    4      1\n",
      "7              8      2014-04-24  NaN    2      3\n",
      "8              9      2015-04-24  7.0    4      3\n",
      "9             10      2016-05-08  3.0    4      4\n"
     ]
    }
   ],
   "source": [
    "# 17. Subset rows excluding 1, 3, and 6\n",
    "subset_excluding_rows = df.drop(index=[0, 2, 5])\n",
    "print(\"Subset excluding rows 1, 3, and 6:\")\n",
    "print(subset_excluding_rows)"
   ]
  },
  {
   "cell_type": "code",
   "execution_count": 314,
   "id": "6a1ed501-96ba-4388-8404-8ac9a64ecb3f",
   "metadata": {},
   "outputs": [
    {
     "name": "stdout",
     "output_type": "stream",
     "text": [
      "First three rows:\n",
      "   TransactionID TransactionDate  UID  PID  Quant\n",
      "0              1      2010-08-21  7.0    2      1\n",
      "1              2      2011-05-26  3.0    4      1\n",
      "2              3      2011-06-16  3.0    3      1\n"
     ]
    }
   ],
   "source": [
    "# 18. Subset the first three rows\n",
    "first_three_rows = df.head(3)\n",
    "print(\"First three rows:\")\n",
    "print(first_three_rows)"
   ]
  },
  {
   "cell_type": "code",
   "execution_count": 316,
   "id": "82784cfa-c241-4964-a6d1-36552fedff21",
   "metadata": {},
   "outputs": [
    {
     "name": "stdout",
     "output_type": "stream",
     "text": [
      "Last two rows:\n",
      "   TransactionID TransactionDate  UID  PID  Quant\n",
      "8              9      2015-04-24  7.0    4      3\n",
      "9             10      2016-05-08  3.0    4      4\n"
     ]
    }
   ],
   "source": [
    "# 19. Subset the last two rows\n",
    "last_two_rows = df.tail(2)\n",
    "print(\"Last two rows:\")\n",
    "print(last_two_rows)"
   ]
  },
  {
   "cell_type": "code",
   "execution_count": 318,
   "id": "6e8fd7c2-97ba-4a1e-98ad-6202831b58a4",
   "metadata": {},
   "outputs": [
    {
     "name": "stdout",
     "output_type": "stream",
     "text": [
      "Excluding last two rows:\n",
      "   TransactionID TransactionDate  UID  PID  Quant\n",
      "0              1      2010-08-21  7.0    2      1\n",
      "1              2      2011-05-26  3.0    4      1\n",
      "2              3      2011-06-16  3.0    3      1\n",
      "3              4      2012-08-26  1.0    2      3\n",
      "4              5      2013-06-06  2.0    4      1\n",
      "5              6      2013-12-23  2.0    5      6\n",
      "6              7      2013-12-30  3.0    4      1\n",
      "7              8      2014-04-24  NaN    2      3\n"
     ]
    }
   ],
   "source": [
    "# 20. Subset rows excluding the last two rows\n",
    "excluding_last_two_rows = df.iloc[:-2]\n",
    "print(\"Excluding last two rows:\")\n",
    "print(excluding_last_two_rows)\n"
   ]
  },
  {
   "cell_type": "code",
   "execution_count": 320,
   "id": "66b31da9-2f91-4362-bf47-c654ba5f0f89",
   "metadata": {},
   "outputs": [
    {
     "name": "stdout",
     "output_type": "stream",
     "text": [
      "Excluding first three rows:\n",
      "   TransactionID TransactionDate  UID  PID  Quant\n",
      "3              4      2012-08-26  1.0    2      3\n",
      "4              5      2013-06-06  2.0    4      1\n",
      "5              6      2013-12-23  2.0    5      6\n",
      "6              7      2013-12-30  3.0    4      1\n",
      "7              8      2014-04-24  NaN    2      3\n",
      "8              9      2015-04-24  7.0    4      3\n",
      "9             10      2016-05-08  3.0    4      4\n"
     ]
    }
   ],
   "source": [
    "# 21. Subset rows excluding the first three rows\n",
    "excluding_first_three_rows = df.iloc[3:]\n",
    "print(\"Excluding first three rows:\")\n",
    "print(excluding_first_three_rows)"
   ]
  },
  {
   "cell_type": "code",
   "execution_count": null,
   "id": "2a6526c6-8774-44ad-af7c-b67df5648ed9",
   "metadata": {},
   "outputs": [],
   "source": [
    "# 22. Subset rows where Quantity > 1\n",
    "subset_quantity_gt_1 = data[data[\"Quant\"] > 1]\n",
    "print(\"Subset rows where Quantity > 1:\")\n",
    "print(subset_quantity_gt_1)\n"
   ]
  },
  {
   "cell_type": "code",
   "execution_count": 322,
   "id": "9d2faee2-9b63-4648-bea8-199533d95ee3",
   "metadata": {},
   "outputs": [
    {
     "name": "stdout",
     "output_type": "stream",
     "text": [
      "Subset rows where UserID = 2:\n",
      "   TransactionID TransactionDate  UID  PID  Quant\n",
      "4              5      2013-06-06  2.0    4      1\n",
      "5              6      2013-12-23  2.0    5      6\n"
     ]
    }
   ],
   "source": [
    "# 23. Subset rows where UserID = 2\n",
    "subset_userid_eq_2 = df[df[\"UID\"] == 2]\n",
    "print(\"Subset rows where UserID = 2:\")\n",
    "print(subset_userid_eq_2)"
   ]
  },
  {
   "cell_type": "code",
   "execution_count": 324,
   "id": "3eb77f20-81aa-4334-9025-f5b4171608fa",
   "metadata": {},
   "outputs": [
    {
     "name": "stdout",
     "output_type": "stream",
     "text": [
      "Subset rows where Quantity > 1 and UserID = 2:\n",
      "   TransactionID TransactionDate  UID  PID  Quant\n",
      "5              6      2013-12-23  2.0    5      6\n"
     ]
    }
   ],
   "source": [
    "# 24. Subset rows where Quantity > 1 and UserID = 2\n",
    "subset_combined = df[(df[\"Quant\"] > 1) & (df[\"UID\"] == 2)]\n",
    "print(\"Subset rows where Quantity > 1 and UserID = 2:\")\n",
    "print(subset_combined)"
   ]
  },
  {
   "cell_type": "code",
   "execution_count": 326,
   "id": "440f3d3f-ba7c-42b8-8a53-f62a8a2cdb26",
   "metadata": {},
   "outputs": [
    {
     "name": "stdout",
     "output_type": "stream",
     "text": [
      "Subset rows where Quantity + UserID > 3:\n",
      "   TransactionID TransactionDate  UID  PID  Quant\n",
      "0              1      2010-08-21  7.0    2      1\n",
      "1              2      2011-05-26  3.0    4      1\n",
      "2              3      2011-06-16  3.0    3      1\n",
      "3              4      2012-08-26  1.0    2      3\n",
      "5              6      2013-12-23  2.0    5      6\n",
      "6              7      2013-12-30  3.0    4      1\n",
      "8              9      2015-04-24  7.0    4      3\n",
      "9             10      2016-05-08  3.0    4      4\n"
     ]
    }
   ],
   "source": [
    "\n",
    "# 25. Subset rows where Quantity + UserID > 3\n",
    "subset_sum_gt_3 = df[df[\"Quant\"] + df[\"UID\"] > 3]\n",
    "print(\"Subset rows where Quantity + UserID > 3:\")\n",
    "print(subset_sum_gt_3)"
   ]
  },
  {
   "cell_type": "code",
   "execution_count": 334,
   "id": "8bf35fd2-678a-4982-b4aa-a1b39f9870c7",
   "metadata": {},
   "outputs": [
    {
     "name": "stdout",
     "output_type": "stream",
     "text": [
      "Subset rows where foo is True:\n",
      "   TransactionID TransactionDate  UID  PID  Quant\n",
      "0              1      2010-08-21  7.0    2      1\n",
      "2              3      2011-06-16  3.0    3      1\n",
      "4              5      2013-06-06  2.0    4      1\n",
      "6              7      2013-12-30  3.0    4      1\n",
      "8              9      2015-04-24  7.0    4      3\n"
     ]
    }
   ],
   "source": [
    "# 26. Subset rows where an external array foo is True\n",
    "import numpy as np\n",
    "foo = np.array([True, False, True, False] * (len(df) // 4 + 1))[:len(df)]\n",
    "subset_foo_true = df[foo]\n",
    "print(\"Subset rows where foo is True:\")\n",
    "print(subset_foo_true)"
   ]
  },
  {
   "cell_type": "code",
   "execution_count": 336,
   "id": "7b0e45e5-cd39-45de-9d59-0e53452e6528",
   "metadata": {},
   "outputs": [
    {
     "name": "stdout",
     "output_type": "stream",
     "text": [
      "Subset rows where bar is positive:\n",
      "   TransactionID TransactionDate  UID  PID  Quant\n",
      "3              4      2012-08-26  1.0    2      3\n",
      "4              5      2013-06-06  2.0    4      1\n",
      "5              6      2013-12-23  2.0    5      6\n",
      "8              9      2015-04-24  7.0    4      3\n",
      "9             10      2016-05-08  3.0    4      4\n"
     ]
    }
   ],
   "source": [
    "\n",
    "# 27. Subset rows where an external array bar is positive\n",
    "bar = np.random.randint(-10, 10, size=len(df))\n",
    "subset_bar_positive = df[bar > 0]\n",
    "print(\"Subset rows where bar is positive:\")\n",
    "print(subset_bar_positive)"
   ]
  },
  {
   "cell_type": "code",
   "execution_count": 338,
   "id": "5d26029a-8f63-464d-932d-312205b42303",
   "metadata": {},
   "outputs": [
    {
     "name": "stdout",
     "output_type": "stream",
     "text": [
      "Subset rows where foo is TRUE or bar is negative:\n",
      "   TransactionID TransactionDate  UID  PID  Quant\n",
      "0              1      2010-08-21  7.0    2      1\n",
      "1              2      2011-05-26  3.0    4      1\n",
      "2              3      2011-06-16  3.0    3      1\n",
      "4              5      2013-06-06  2.0    4      1\n",
      "6              7      2013-12-30  3.0    4      1\n",
      "7              8      2014-04-24  NaN    2      3\n",
      "8              9      2015-04-24  7.0    4      3\n"
     ]
    }
   ],
   "source": [
    "# 28. Subset rows where foo is TRUE or bar is negative\n",
    "subset_foo_or_bar = df[foo | (bar < 0)]\n",
    "print(\"Subset rows where foo is TRUE or bar is negative:\")\n",
    "print(subset_foo_or_bar)\n"
   ]
  },
  {
   "cell_type": "code",
   "execution_count": 340,
   "id": "3baa6c0d-9ea4-46fd-98e9-23beb6a52078",
   "metadata": {},
   "outputs": [
    {
     "name": "stdout",
     "output_type": "stream",
     "text": [
      "Subset rows where foo is not TRUE and bar is not negative:\n",
      "   TransactionID TransactionDate  UID  PID  Quant\n",
      "3              4      2012-08-26  1.0    2      3\n",
      "5              6      2013-12-23  2.0    5      6\n",
      "9             10      2016-05-08  3.0    4      4\n"
     ]
    }
   ],
   "source": [
    "# 29. Subset the rows where foo is not TRUE and bar is not negative\n",
    "subset_not_foo_and_bar = df[~foo & ~(bar < 0)]\n",
    "print(\"Subset rows where foo is not TRUE and bar is not negative:\")\n",
    "print(subset_not_foo_and_bar)\n"
   ]
  },
  {
   "cell_type": "code",
   "execution_count": 342,
   "id": "1084bb11-5194-4bda-9f61-381fda4ef176",
   "metadata": {},
   "outputs": [
    {
     "name": "stdout",
     "output_type": "stream",
     "text": [
      "Subset columns 1 and 3:\n",
      "   TransactionID  UID\n",
      "0              1  7.0\n",
      "1              2  3.0\n",
      "2              3  3.0\n",
      "3              4  1.0\n",
      "4              5  2.0\n",
      "5              6  2.0\n",
      "6              7  3.0\n",
      "7              8  NaN\n",
      "8              9  7.0\n",
      "9             10  3.0\n"
     ]
    }
   ],
   "source": [
    "# 30. Subset by columns 1 and 3\n",
    "subset_columns_1_3 = df.iloc[:, [0, 2]]\n",
    "print(\"Subset columns 1 and 3:\")\n",
    "print(subset_columns_1_3)"
   ]
  },
  {
   "cell_type": "code",
   "execution_count": 344,
   "id": "4f692026-76fe-40f8-8363-f2c723b18022",
   "metadata": {},
   "outputs": [
    {
     "name": "stdout",
     "output_type": "stream",
     "text": [
      "Subset columns TransactionID and TransactionDate:\n",
      "   TransactionID TransactionDate\n",
      "0              1      2010-08-21\n",
      "1              2      2011-05-26\n",
      "2              3      2011-06-16\n",
      "3              4      2012-08-26\n",
      "4              5      2013-06-06\n",
      "5              6      2013-12-23\n",
      "6              7      2013-12-30\n",
      "7              8      2014-04-24\n",
      "8              9      2015-04-24\n",
      "9             10      2016-05-08\n"
     ]
    }
   ],
   "source": [
    "# 31. Subset by columns TransactionID and TransactionDate\n",
    "subset_specific_columns = df[[\"TransactionID\", \"TransactionDate\"]]\n",
    "print(\"Subset columns TransactionID and TransactionDate:\")\n",
    "print(subset_specific_columns)"
   ]
  },
  {
   "cell_type": "code",
   "execution_count": 346,
   "id": "7e46fb5d-6194-45d5-8702-83777738117e",
   "metadata": {},
   "outputs": [
    {
     "name": "stdout",
     "output_type": "stream",
     "text": [
      "Subset by variable list of columns:\n",
      "   PID TransactionDate\n",
      "0    2      2010-08-21\n",
      "1    4      2011-05-26\n",
      "2    3      2011-06-16\n",
      "3    2      2012-08-26\n",
      "4    4      2013-06-06\n",
      "5    5      2013-12-23\n",
      "6    4      2013-12-30\n",
      "7    2      2014-04-24\n",
      "8    4      2015-04-24\n",
      "9    4      2016-05-08\n"
     ]
    }
   ],
   "source": [
    "\n",
    "# 33. Subset columns by a variable list of column names\n",
    "cols_to_keep = [\"PID\", \"TransactionDate\"]\n",
    "data_subset_cols = df[cols_to_keep]\n",
    "print(\"Subset by variable list of columns:\")\n",
    "print(data_subset_cols)"
   ]
  },
  {
   "cell_type": "code",
   "execution_count": 348,
   "id": "083dd30f-1f1f-458a-a702-3cc4eb5fa888",
   "metadata": {},
   "outputs": [
    {
     "name": "stdout",
     "output_type": "stream",
     "text": [
      "Subset excluding variable list of columns:\n",
      "   PID TransactionDate  TransactionID\n",
      "0    2      2010-08-21              1\n",
      "1    4      2011-05-26              2\n",
      "2    3      2011-06-16              3\n",
      "3    2      2012-08-26              4\n",
      "4    4      2013-06-06              5\n",
      "5    5      2013-12-23              6\n",
      "6    4      2013-12-30              7\n",
      "7    2      2014-04-24              8\n",
      "8    4      2015-04-24              9\n",
      "9    4      2016-05-08             10\n"
     ]
    }
   ],
   "source": [
    "# 34. Subset columns excluding a variable list of column names\n",
    "cols_to_exclude = [\"UID\", \"Quant\"]\n",
    "data_excluding_cols = df[[col for col in data.columns if col not in cols_to_exclude]]\n",
    "print(\"Subset excluding variable list of columns:\")\n",
    "print(data_excluding_cols)"
   ]
  },
  {
   "cell_type": "code",
   "execution_count": 350,
   "id": "a19968eb-c790-4085-931d-9cd7e93d62f8",
   "metadata": {},
   "outputs": [
    {
     "name": "stdout",
     "output_type": "stream",
     "text": [
      "Converted TransactionDate to datetime:\n",
      "0    2010-08-21\n",
      "1    2011-05-26\n",
      "2    2011-06-16\n",
      "3    2012-08-26\n",
      "4    2013-06-06\n",
      "Name: TransactionDate, dtype: object\n"
     ]
    }
   ],
   "source": [
    "# 36. Convert the TransactionDate column to type Date\n",
    "df[\"TransactionDate\"] = pd.to_datetime(df[\"TransactionDate\"], errors='coerce')\n",
    "print(\"Converted TransactionDate to datetime:\")\n",
    "print(data[\"TransactionDate\"].head())"
   ]
  },
  {
   "cell_type": "code",
   "execution_count": 354,
   "id": "26cb2317-aa76-4dd3-83bd-27df5a4fa637",
   "metadata": {},
   "outputs": [
    {
     "name": "stdout",
     "output_type": "stream",
     "text": [
      "Data with new column Foo:\n",
      "   UID  PID  Quant TransactionDate  TransactionID\n",
      "0  7.0    2      1      2010-08-21              1\n",
      "1  3.0    4      1      2011-05-26              2\n",
      "2  3.0    3      1      2011-06-16              3\n",
      "3  1.0    2      3      2012-08-26              4\n",
      "4  2.0    4      1      2013-06-06              5\n"
     ]
    }
   ],
   "source": [
    "# 37. Insert a new column, Foo = UserID + ProductID\n",
    "df[\"Foo\"] = df[\"UID\"] + df[\"PID\"]\n",
    "print(\"Data with new column Foo:\")\n",
    "print(data.head())"
   ]
  },
  {
   "cell_type": "code",
   "execution_count": null,
   "id": "e0ee4923-8346-4729-990a-d276dd23122e",
   "metadata": {},
   "outputs": [],
   "source": []
  },
  {
   "cell_type": "code",
   "execution_count": null,
   "id": "80fc1d00-d7bf-4c33-a272-6ffa3da7bc55",
   "metadata": {},
   "outputs": [],
   "source": []
  },
  {
   "cell_type": "code",
   "execution_count": null,
   "id": "bb5789b6-0043-4bdb-9c4c-223a10c9c628",
   "metadata": {},
   "outputs": [],
   "source": []
  },
  {
   "cell_type": "code",
   "execution_count": null,
   "id": "76b0c9a3-d8f5-4207-900e-5d68d66429bb",
   "metadata": {},
   "outputs": [],
   "source": []
  },
  {
   "cell_type": "code",
   "execution_count": null,
   "id": "a66391b1-b469-4987-8d56-d8d575b02af0",
   "metadata": {},
   "outputs": [],
   "source": []
  }
 ],
 "metadata": {
  "kernelspec": {
   "display_name": "Python 3 (ipykernel)",
   "language": "python",
   "name": "python3"
  },
  "language_info": {
   "codemirror_mode": {
    "name": "ipython",
    "version": 3
   },
   "file_extension": ".py",
   "mimetype": "text/x-python",
   "name": "python",
   "nbconvert_exporter": "python",
   "pygments_lexer": "ipython3",
   "version": "3.12.7"
  }
 },
 "nbformat": 4,
 "nbformat_minor": 5
}
